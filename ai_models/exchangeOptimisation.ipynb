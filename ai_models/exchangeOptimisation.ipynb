{
 "cells": [
  {
   "cell_type": "code",
   "execution_count": 1,
   "id": "ec423e5d",
   "metadata": {},
   "outputs": [
    {
     "name": "stdout",
     "output_type": "stream",
     "text": [
      "Error fetching data for bitcoin: {\"status\":{\"error_code\":429,\"error_message\":\"You've exceeded the Rate Limit. Please visit https://www.coingecko.com/en/api/pricing to subscribe to our API plans for higher rate limits.\"}}\n",
      "Error fetching data for ethereum: {\"status\":{\"error_code\":429,\"error_message\":\"You've exceeded the Rate Limit. Please visit https://www.coingecko.com/en/api/pricing to subscribe to our API plans for higher rate limits.\"}}\n",
      "Error fetching data for litecoin: {\"status\":{\"error_code\":429,\"error_message\":\"You've exceeded the Rate Limit. Please visit https://www.coingecko.com/en/api/pricing to subscribe to our API plans for higher rate limits.\"}}\n",
      "Error fetching data for ripple: {\"status\":{\"error_code\":429,\"error_message\":\"You've exceeded the Rate Limit. Please visit https://www.coingecko.com/en/api/pricing to subscribe to our API plans for higher rate limits.\"}}\n",
      "Error fetching data for cardano: {\"status\":{\"error_code\":429,\"error_message\":\"You've exceeded the Rate Limit. Please visit https://www.coingecko.com/en/api/pricing to subscribe to our API plans for higher rate limits.\"}}\n",
      "Error fetching data for binancecoin: {\"status\":{\"error_code\":429,\"error_message\":\"You've exceeded the Rate Limit. Please visit https://www.coingecko.com/en/api/pricing to subscribe to our API plans for higher rate limits.\"}}\n",
      "Empty DataFrame\n",
      "Columns: []\n",
      "Index: []\n"
     ]
    }
   ],
   "source": [
    "import requests\n",
    "import pandas as pd\n",
    "import random\n",
    "\n",
    "\n",
    "url = \"https://coingecko.p.rapidapi.com/simple/price\"\n",
    "arr =[\"c4cea9c1bamshe831a5ff4ee3da7p13d5e9jsnfa1e83232905\",\"c09de9a150msh908b64d2af3f542p131896jsnbcc55a31fc31\"]\n",
    "headers = {\n",
    "    \"X-RapidAPI-Key\":random.choice(arr) ,\n",
    "    \"X-RapidAPI-Host\": \"coingecko.p.rapidapi.com\"\n",
    "}\n",
    "\n",
    "crypto_ids = [\"bitcoin\", \"ethereum\", \"litecoin\", \"ripple\", \"cardano\",\"binancecoin\"]\n",
    "crypto_prices = []\n",
    "\n",
    "for crypto_id in crypto_ids:\n",
    "    querystring = {\"ids\": crypto_id, \"vs_currencies\": \"usd\"}\n",
    "    response = requests.request(\"GET\", url, headers=headers, params=querystring)\n",
    "\n",
    "    if response.status_code == 200:\n",
    "        data = response.json()\n",
    "        crypto_prices.append({\n",
    "            \"Crypto\": crypto_id.capitalize(),\n",
    "            \"Price (USD)\": data[crypto_id][\"usd\"]\n",
    "        })\n",
    "    else:\n",
    "        print(f\"Error fetching data for {crypto_id}: {response.text}\")\n",
    "\n",
    "# Create DataFrame\n",
    "df = pd.DataFrame(crypto_prices)\n",
    "print(df)\n"
   ]
  },
  {
   "cell_type": "code",
   "execution_count": 2,
   "id": "21d89ea1",
   "metadata": {},
   "outputs": [],
   "source": [
    "def OnehotcodeEncoding(df,categorical_columns):\n",
    "\n",
    "    df = pd.get_dummies(df, columns=categorical_columns)\n",
    "    return df"
   ]
  },
  {
   "cell_type": "code",
   "execution_count": 3,
   "id": "e9ef6d90",
   "metadata": {},
   "outputs": [
    {
     "name": "stdout",
     "output_type": "stream",
     "text": [
      "   Price (USD) Crypto_Bitcoin Crypto_Ethereum Crypto_Litecoin Crypto_Ripple  \\\n",
      "2     84.60000          False           False            True         False   \n",
      "3      0.60859          False           False           False          True   \n",
      "0          NaN            NaN             NaN             NaN           NaN   \n",
      "1          NaN            NaN             NaN             NaN           NaN   \n",
      "\n",
      "   Price (USD)  \n",
      "2    -0.616603  \n",
      "3    -0.619565  \n",
      "0     1.729813  \n",
      "1    -0.493645  \n"
     ]
    }
   ],
   "source": [
    "import pandas as pd\n",
    "from sklearn.preprocessing import OneHotEncoder, StandardScaler\n",
    "\n",
    "\n",
    "data = df\n",
    "\n",
    "categorical_columns = ['Crypto']\n",
    "\n",
    "# Apply one-hot encoding\n",
    "crypto_encoded_df = OnehotcodeEncoding(data, categorical_columns)\n",
    "\n",
    "# Numerical preprocessing for 'Price (USD)'\n",
    "scaler = StandardScaler()\n",
    "price_scaled = scaler.fit_transform(data[['Price (USD)']])\n",
    "price_scaled_df = pd.DataFrame(price_scaled, columns=['Price (USD)'])\n",
    "\n",
    "# Concatenate the encoded 'Crypto' and scaled 'Price (USD)' columns\n",
    "processed_data = pd.concat([crypto_encoded_df[2:], price_scaled_df], axis=1)\n",
    "\n",
    "print(processed_data)\n"
   ]
  },
  {
   "cell_type": "code",
   "execution_count": 4,
   "id": "9ef3b68e",
   "metadata": {},
   "outputs": [
    {
     "data": {
      "text/html": [
       "<div>\n",
       "<style scoped>\n",
       "    .dataframe tbody tr th:only-of-type {\n",
       "        vertical-align: middle;\n",
       "    }\n",
       "\n",
       "    .dataframe tbody tr th {\n",
       "        vertical-align: top;\n",
       "    }\n",
       "\n",
       "    .dataframe thead th {\n",
       "        text-align: right;\n",
       "    }\n",
       "</style>\n",
       "<table border=\"1\" class=\"dataframe\">\n",
       "  <thead>\n",
       "    <tr style=\"text-align: right;\">\n",
       "      <th></th>\n",
       "      <th>Price (USD)</th>\n",
       "      <th>Crypto_Bitcoin</th>\n",
       "      <th>Crypto_Ethereum</th>\n",
       "      <th>Crypto_Litecoin</th>\n",
       "      <th>Crypto_Ripple</th>\n",
       "      <th>Price (USD)</th>\n",
       "    </tr>\n",
       "  </thead>\n",
       "  <tbody>\n",
       "    <tr>\n",
       "      <th>2</th>\n",
       "      <td>84.60000</td>\n",
       "      <td>False</td>\n",
       "      <td>False</td>\n",
       "      <td>True</td>\n",
       "      <td>False</td>\n",
       "      <td>-0.616603</td>\n",
       "    </tr>\n",
       "    <tr>\n",
       "      <th>3</th>\n",
       "      <td>0.60859</td>\n",
       "      <td>False</td>\n",
       "      <td>False</td>\n",
       "      <td>False</td>\n",
       "      <td>True</td>\n",
       "      <td>-0.619565</td>\n",
       "    </tr>\n",
       "    <tr>\n",
       "      <th>0</th>\n",
       "      <td>NaN</td>\n",
       "      <td>NaN</td>\n",
       "      <td>NaN</td>\n",
       "      <td>NaN</td>\n",
       "      <td>NaN</td>\n",
       "      <td>1.729813</td>\n",
       "    </tr>\n",
       "    <tr>\n",
       "      <th>1</th>\n",
       "      <td>NaN</td>\n",
       "      <td>NaN</td>\n",
       "      <td>NaN</td>\n",
       "      <td>NaN</td>\n",
       "      <td>NaN</td>\n",
       "      <td>-0.493645</td>\n",
       "    </tr>\n",
       "  </tbody>\n",
       "</table>\n",
       "</div>"
      ],
      "text/plain": [
       "   Price (USD) Crypto_Bitcoin Crypto_Ethereum Crypto_Litecoin Crypto_Ripple  \\\n",
       "2     84.60000          False           False            True         False   \n",
       "3      0.60859          False           False           False          True   \n",
       "0          NaN            NaN             NaN             NaN           NaN   \n",
       "1          NaN            NaN             NaN             NaN           NaN   \n",
       "\n",
       "   Price (USD)  \n",
       "2    -0.616603  \n",
       "3    -0.619565  \n",
       "0     1.729813  \n",
       "1    -0.493645  "
      ]
     },
     "execution_count": 4,
     "metadata": {},
     "output_type": "execute_result"
    }
   ],
   "source": [
    "processed_data"
   ]
  },
  {
   "cell_type": "code",
   "execution_count": null,
   "id": "64505439",
   "metadata": {},
   "outputs": [],
   "source": []
  }
 ],
 "metadata": {
  "kernelspec": {
   "display_name": "Python 3 (ipykernel)",
   "language": "python",
   "name": "python3"
  },
  "language_info": {
   "codemirror_mode": {
    "name": "ipython",
    "version": 3
   },
   "file_extension": ".py",
   "mimetype": "text/x-python",
   "name": "python",
   "nbconvert_exporter": "python",
   "pygments_lexer": "ipython3",
   "version": "3.11.5"
  }
 },
 "nbformat": 4,
 "nbformat_minor": 5
}
